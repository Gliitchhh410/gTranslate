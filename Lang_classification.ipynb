{
 "cells": [
  {
   "cell_type": "code",
   "execution_count": 1,
   "id": "02a0d93a",
   "metadata": {},
   "outputs": [
    {
     "name": "stdout",
     "output_type": "stream",
     "text": [
      "Requirement already satisfied: fasttext-wheel in c:\\users\\yn\\appdata\\local\\programs\\python\\python311\\lib\\site-packages (0.9.2)\n",
      "Requirement already satisfied: pybind11>=2.2 in c:\\users\\yn\\appdata\\local\\programs\\python\\python311\\lib\\site-packages (from fasttext-wheel) (3.0.0)\n",
      "Requirement already satisfied: setuptools>=0.7.0 in c:\\users\\yn\\appdata\\local\\programs\\python\\python311\\lib\\site-packages (from fasttext-wheel) (65.5.0)\n",
      "Requirement already satisfied: numpy in c:\\users\\yn\\appdata\\local\\programs\\python\\python311\\lib\\site-packages (from fasttext-wheel) (1.26.4)\n"
     ]
    }
   ],
   "source": [
    "!pip install fasttext-wheel  "
   ]
  },
  {
   "cell_type": "code",
   "execution_count": 2,
   "id": "bd57bfe4",
   "metadata": {},
   "outputs": [
    {
     "data": {
      "text/plain": [
       "True"
      ]
     },
     "execution_count": 2,
     "metadata": {},
     "output_type": "execute_result"
    }
   ],
   "source": [
    "import os\n",
    "from dotenv import load_dotenv, find_dotenv\n",
    "\n",
    "\n",
    "load_dotenv(find_dotenv(), override=True)\n",
    "\n",
    "#os.environ.get(\"OPENAI_API_KEY\")"
   ]
  },
  {
   "cell_type": "code",
   "execution_count": 3,
   "id": "6008d8ed",
   "metadata": {},
   "outputs": [
    {
     "data": {
      "text/plain": [
       "True"
      ]
     },
     "execution_count": 3,
     "metadata": {},
     "output_type": "execute_result"
    }
   ],
   "source": [
    "import os\n",
    "from dotenv import load_dotenv, find_dotenv\n",
    "\n",
    "\n",
    "load_dotenv(find_dotenv(), override=True)\n",
    "\n",
    "#os.environ.get(\"OPENAI_API_KEY\")"
   ]
  },
  {
   "cell_type": "code",
   "execution_count": 4,
   "id": "397ffc68",
   "metadata": {},
   "outputs": [
    {
     "name": "stdout",
     "output_type": "stream",
     "text": [
      "True\n"
     ]
    },
    {
     "ename": "NameError",
     "evalue": "name 'fasttext' is not defined",
     "output_type": "error",
     "traceback": [
      "\u001b[31m---------------------------------------------------------------------------\u001b[39m",
      "\u001b[31mNameError\u001b[39m                                 Traceback (most recent call last)",
      "\u001b[36mCell\u001b[39m\u001b[36m \u001b[39m\u001b[32mIn[4]\u001b[39m\u001b[32m, line 7\u001b[39m\n\u001b[32m      4\u001b[39m \u001b[38;5;28mprint\u001b[39m(os.path.exists(\u001b[33m'\u001b[39m\u001b[33mlid.176.bin\u001b[39m\u001b[33m'\u001b[39m))  \u001b[38;5;66;03m# Should return True\u001b[39;00m\n\u001b[32m      6\u001b[39m \u001b[38;5;66;03m# If False, specify the full path:\u001b[39;00m\n\u001b[32m----> \u001b[39m\u001b[32m7\u001b[39m model = \u001b[43mfasttext\u001b[49m.load_model(\u001b[33m'\u001b[39m\u001b[33mG:\u001b[39m\u001b[33m\\\u001b[39m\u001b[33mData\u001b[39m\u001b[33m\\\u001b[39m\u001b[33mTheLazyProgrammer\u001b[39m\u001b[33m\\\u001b[39m\u001b[33mLangChain-TUT\u001b[39m\u001b[33m\\\u001b[39m\u001b[33mlid.176.bin\u001b[39m\u001b[33m'\u001b[39m)  \u001b[38;5;66;03m# Replace with your actual path\u001b[39;00m\n",
      "\u001b[31mNameError\u001b[39m: name 'fasttext' is not defined"
     ]
    }
   ],
   "source": [
    "import os\n",
    "\n",
    "# Check if the file exists in the current directory\n",
    "print(os.path.exists('lid.176.bin'))  # Should return True\n",
    "\n",
    "# If False, specify the full path:\n",
    "model = fasttext.load_model('G:\\Data\\TheLazyProgrammer\\LangChain-TUT\\lid.176.bin')  # Replace with your actual path"
   ]
  },
  {
   "cell_type": "code",
   "execution_count": null,
   "id": "c84104bd",
   "metadata": {},
   "outputs": [
    {
     "name": "stdout",
     "output_type": "stream",
     "text": [
      "Requirement already satisfied: numpy==1.26.4 in c:\\users\\yn\\appdata\\local\\programs\\python\\python311\\lib\\site-packages (1.26.4)\n"
     ]
    },
    {
     "name": "stderr",
     "output_type": "stream",
     "text": [
      "\n",
      "[notice] A new release of pip available: 22.3.1 -> 25.1.1\n",
      "[notice] To update, run: python.exe -m pip install --upgrade pip\n"
     ]
    },
    {
     "name": "stdout",
     "output_type": "stream",
     "text": [
      "Requirement already satisfied: pip in c:\\users\\yn\\appdata\\local\\programs\\python\\python311\\lib\\site-packages (22.3.1)\n",
      "Collecting pip\n",
      "  Using cached pip-25.1.1-py3-none-any.whl (1.8 MB)\n",
      "Installing collected packages: pip\n",
      "  Attempting uninstall: pip\n",
      "    Found existing installation: pip 22.3.1\n",
      "    Uninstalling pip-22.3.1:\n",
      "      Successfully uninstalled pip-22.3.1\n",
      "Successfully installed pip-25.1.1\n"
     ]
    }
   ],
   "source": [
    "!pip install numpy==1.26.4 \n",
    "!python.exe -m pip install --upgrade pip\n"
   ]
  },
  {
   "cell_type": "code",
   "execution_count": 5,
   "id": "a750b28c",
   "metadata": {},
   "outputs": [
    {
     "name": "stdout",
     "output_type": "stream",
     "text": [
      "(('__label__en',), array([0.96727377]))\n",
      "(('__label__fr',), array([0.99965817]))\n",
      "(('__label__ar',), array([0.99836737]))\n"
     ]
    }
   ],
   "source": [
    "import fasttext\n",
    "\n",
    "\n",
    "model = fasttext.load_model('lid.176.bin')\n",
    "\n",
    "\n",
    "text = \"This is an english sentence\"\n",
    "print(model.predict(text, k=1))\n",
    "\n",
    "\n",
    "text = \"Ceci est une phrase en français.\"\n",
    "print(model.predict(text, k=1))\n",
    "\n",
    "text = \"هذا نص باللغة العربية.\"\n",
    "print(model.predict(text, k=1))"
   ]
  }
 ],
 "metadata": {
  "kernelspec": {
   "display_name": "Python 3",
   "language": "python",
   "name": "python3"
  },
  "language_info": {
   "codemirror_mode": {
    "name": "ipython",
    "version": 3
   },
   "file_extension": ".py",
   "mimetype": "text/x-python",
   "name": "python",
   "nbconvert_exporter": "python",
   "pygments_lexer": "ipython3",
   "version": "3.11.3"
  }
 },
 "nbformat": 4,
 "nbformat_minor": 5
}
